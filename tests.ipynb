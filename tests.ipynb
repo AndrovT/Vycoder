{
 "cells": [
  {
   "cell_type": "code",
   "execution_count": 2,
   "metadata": {},
   "outputs": [],
   "source": [
    "from vycoder import config\n",
    "config.training = True\n",
    "\n",
    "from vycoder.predictions import *\n",
    "from vycoder.coder import encode\n",
    "\n",
    "def test(prediction, min_bits=16):\n",
    "    input_size = 0\n",
    "    output_size = 0\n",
    "\n",
    "    with open(\"vycoder/TestData.csv\", newline=\"\") as f:\n",
    "        for row in csv.reader(f):\n",
    "            input_size += 8*len(row)\n",
    "            output_size += len(encode([int(x) for x in row], prediction, min_bits=min_bits))\n",
    "\n",
    "    print(f\"input size: {input_size} bits\\noutput size: {output_size} bits\\nratio: {output_size/input_size}\")"
   ]
  },
  {
   "cell_type": "code",
   "execution_count": 3,
   "metadata": {},
   "outputs": [
    {
     "name": "stdout",
     "output_type": "stream",
     "text": [
      "input size: 32712 bits\n",
      "output size: 32712 bits\n",
      "ratio: 1.0\n"
     ]
    }
   ],
   "source": [
    "test(uniform)"
   ]
  },
  {
   "cell_type": "code",
   "execution_count": 4,
   "metadata": {},
   "outputs": [
    {
     "name": "stdout",
     "output_type": "stream",
     "text": [
      "input size: 32712 bits\n",
      "output size: 30958 bits\n",
      "ratio: 0.9463805331376864\n"
     ]
    }
   ],
   "source": [
    "test(frequency)"
   ]
  },
  {
   "cell_type": "code",
   "execution_count": 5,
   "metadata": {},
   "outputs": [
    {
     "name": "stdout",
     "output_type": "stream",
     "text": [
      "input size: 32712 bits\n",
      "output size: 30948 bits\n",
      "ratio: 0.9460748349229641\n"
     ]
    }
   ],
   "source": [
    "test(frequency_plus_uniform(0.1))"
   ]
  },
  {
   "cell_type": "code",
   "execution_count": 6,
   "metadata": {},
   "outputs": [
    {
     "name": "stdout",
     "output_type": "stream",
     "text": [
      "input size: 32712 bits\n",
      "output size: 26157 bits\n",
      "ratio: 0.7996148202494497\n"
     ]
    }
   ],
   "source": [
    "test(pair_frequency(2, 1/800))"
   ]
  }
 ],
 "metadata": {
  "kernelspec": {
   "display_name": "vycoder-seBmU81l-py3.10",
   "language": "python",
   "name": "python3"
  },
  "language_info": {
   "codemirror_mode": {
    "name": "ipython",
    "version": 3
   },
   "file_extension": ".py",
   "mimetype": "text/x-python",
   "name": "python",
   "nbconvert_exporter": "python",
   "pygments_lexer": "ipython3",
   "version": "3.10.9"
  },
  "orig_nbformat": 4
 },
 "nbformat": 4,
 "nbformat_minor": 2
}
